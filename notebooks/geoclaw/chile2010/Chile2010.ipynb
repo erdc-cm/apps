{
 "metadata": {
  "name": "",
  "signature": "sha256:6db25278da14a8dc1b907d3a04b32cd392a23c2fc9c5dd98e661fa33cb7d3932"
 },
 "nbformat": 3,
 "nbformat_minor": 0,
 "worksheets": [
  {
   "cells": [
    {
     "cell_type": "code",
     "collapsed": false,
     "input": [
      "from __future__ import print_function\n",
      "from leafletwidget import (\n",
      "    Map,\n",
      "    Marker,\n",
      "    TileLayer, ImageOverlay,\n",
      "    Polyline, Polygon, Rectangle, Circle, CircleMarker,\n",
      "    GeoJSON,\n",
      "    DrawControl\n",
      ")\n",
      "from leafletwidget import initialize_notebook\n",
      "from IPython.html import widgets\n",
      "from IPython.display import display\n",
      "#from IPython.utils.traitlets import link\n",
      "initialize_notebook()"
     ],
     "language": "python",
     "metadata": {},
     "outputs": []
    },
    {
     "cell_type": "code",
     "collapsed": false,
     "input": [
      "%pylab inline"
     ],
     "language": "python",
     "metadata": {},
     "outputs": []
    },
    {
     "cell_type": "code",
     "collapsed": false,
     "input": [
      "import os\n",
      "from IPython.display import FileLink\n",
      "from clawpack.geoclaw import topotools\n",
      "from clawpack.geoclaw import most2geoclaw\n",
      "\n",
      "CLAW = os.environ['CLAW'] \n",
      "datadir = os.path.join(CLAW,'geoclaw','scratch') # directory for some sample data files"
     ],
     "language": "python",
     "metadata": {},
     "outputs": []
    },
    {
     "cell_type": "code",
     "collapsed": false,
     "input": [],
     "language": "python",
     "metadata": {},
     "outputs": []
    },
    {
     "cell_type": "code",
     "collapsed": false,
     "input": [
      "%%bash\n",
      "export FFLAGS=\"-fopenmp\"\n",
      "make topo &> all.txt\n",
      "make .plots >> all.txt\n"
     ],
     "language": "python",
     "metadata": {},
     "outputs": []
    },
    {
     "cell_type": "code",
     "collapsed": false,
     "input": [
      "FileLink('all.txt')"
     ],
     "language": "python",
     "metadata": {},
     "outputs": []
    },
    {
     "cell_type": "code",
     "collapsed": false,
     "input": [
      "import clawpack.visclaw.JSAnimation.JSAnimation_frametools as J\n",
      "plotdir = '_plots'\n",
      "anim = J.make_anim(plotdir, figsize=(6,4))\n",
      "anim"
     ],
     "language": "python",
     "metadata": {},
     "outputs": []
    },
    {
     "cell_type": "code",
     "collapsed": false,
     "input": [
      "# Determine topo file:\n",
      "import setrun\n",
      "rundata = setrun.setrun()\n",
      "topofile = rundata.topo_data.topofiles[0][5]\n",
      "print(\"topofile = \", topofile)\n",
      "topo_path = os.path.join(datadir, topofile)\n",
      "topo = topotools.Topography()\n",
      "topo.read(topo_path, topo_type=2)\n",
      "print(\"The topo array is %i by %i\" % (topo.x.shape[0], topo.y.shape[0]))\n",
      "print(\"The extent of the data in longitude: %s\" % topo.extent[0:2])\n",
      "print(\"The extent of the data in latitude:  %s\" % topo.extent[2:4])"
     ],
     "language": "python",
     "metadata": {},
     "outputs": []
    },
    {
     "cell_type": "code",
     "collapsed": false,
     "input": [
      "topo.plot()"
     ],
     "language": "python",
     "metadata": {},
     "outputs": []
    },
    {
     "cell_type": "code",
     "collapsed": false,
     "input": [
      "center = [0.5*sum(topo.extent[2:4]),0.5*sum(topo.extent[0:2])]\n",
      "zoom = 3\n",
      "print(center)\n",
      "print(zoom)"
     ],
     "language": "python",
     "metadata": {},
     "outputs": []
    },
    {
     "cell_type": "code",
     "collapsed": false,
     "input": [
      "c = widgets.ContainerWidget()\n",
      "m = Map(width='1000px',height='600px', center=center, zoom=zoom,default_tiles=TileLayer(url=u'http://otile1.mqcdn.com/tiles/1.0.0/sat/{z}/{x}/{y}.jpg'))\n",
      "c.children = [m]"
     ],
     "language": "python",
     "metadata": {},
     "outputs": []
    },
    {
     "cell_type": "code",
     "collapsed": false,
     "input": [
      "domain = ((0.0,0.0),(0.0,1.0),(1.0,1.0),(1.0,0.0))\n",
      "map_regions = set()\n",
      "domain_color = '#a52a2a'\n",
      "region_color = '#00F'\n",
      "domainDrawControl = DrawControl(\n",
      "rectangle={'shapeOptions':{'color':domain_color}},\n",
      "polygon={'shapeOptions':{'color':region_color}},\n",
      "polyline=None)\n",
      "def handle_draw(self, action, geo_json):\n",
      "    global domain,map_regions\n",
      "    polygon=[]\n",
      "    for coords in geo_json['geometry']['coordinates'][0][:-1][:]:\n",
      "        polygon.append(tuple(coords))\n",
      "    polygon = tuple(polygon)\n",
      "    if geo_json['properties']['style']['color'] == '#00F':\n",
      "        if action == 'created':\n",
      "            map_regions.add(polygon)\n",
      "        elif action == 'deleted':\n",
      "            map_regions.discard(polygon)\n",
      "    if geo_json['properties']['style']['color'] == '#a52a2a':\n",
      "        if action == 'created':\n",
      "            domain = polygon\n",
      "        elif action == 'deleted':\n",
      "            domain = polygon\n",
      "domainDrawControl.on_draw(handle_draw)\n",
      "m.add_control(domainDrawControl)#a52a2a"
     ],
     "language": "python",
     "metadata": {},
     "outputs": []
    },
    {
     "cell_type": "code",
     "collapsed": false,
     "input": [
      "display(m)"
     ],
     "language": "python",
     "metadata": {},
     "outputs": []
    },
    {
     "cell_type": "code",
     "collapsed": false,
     "input": [
      "for r in map_regions:\n",
      "    print(r)"
     ],
     "language": "python",
     "metadata": {},
     "outputs": []
    },
    {
     "cell_type": "code",
     "collapsed": false,
     "input": [
      "regions = rundata.regiondata.regions\n",
      "print(\"Regions specified for AMR: \")\n",
      "print(\"[minlevel, maxlevel,t1,t2,x1,x2,y1,y2]\")\n",
      "for r in regions:\n",
      "    print(r)"
     ],
     "language": "python",
     "metadata": {},
     "outputs": []
    },
    {
     "cell_type": "code",
     "collapsed": false,
     "input": [],
     "language": "python",
     "metadata": {},
     "outputs": []
    },
    {
     "cell_type": "code",
     "collapsed": false,
     "input": [
      "# Change the regions:\n",
      "regions = rundata.regiondata.regions = []\n",
      "regions.append([1, 1, 0., 1e9, -180, 180, -90, 90])  # global\n",
      "for mr in map_regions:\n",
      "    xList = [p[0] for p in mr]\n",
      "    yList = [p[1] for p in mr]\n",
      "    regions.append([3,3,0.,1e9,min(xList),max(xList),min(yList),max(yList)])\n",
      "#regions.append([3, 3, 0., 100, -85, -72, -38, -25])  # earthquake region\n",
      "#regions.append([3, 3, 0., 1e9, -80, -70, -25, -15])  # Peru shelf region\n",
      "print(rundata.regiondata.regions)"
     ],
     "language": "python",
     "metadata": {},
     "outputs": []
    },
    {
     "cell_type": "code",
     "collapsed": false,
     "input": [
      "rundata.write()"
     ],
     "language": "python",
     "metadata": {},
     "outputs": []
    },
    {
     "cell_type": "code",
     "collapsed": false,
     "input": [
      "from clawpack.clawutil.runclaw import runclaw\n",
      "outdir = '_output2'\n",
      "runclaw(xclawcmd='xgeoclaw', outdir=outdir, overwrite=True, restart=False, rundir='.')"
     ],
     "language": "python",
     "metadata": {},
     "outputs": []
    },
    {
     "cell_type": "code",
     "collapsed": false,
     "input": [
      "if 0:\n",
      "    from clawpack.visclaw import plotclaw\n",
      "    reload(plotclaw)\n",
      "    plotdir = '_plots2'\n",
      "    x = plotclaw.plotclaw(outdir=outdir, plotdir=plotdir, setplot = 'setplot.py',format='ascii')"
     ],
     "language": "python",
     "metadata": {},
     "outputs": []
    },
    {
     "cell_type": "code",
     "collapsed": false,
     "input": [
      "%%bash\n",
      "make plots OUTDIR='_output2' PLOTDIR='_plots2' >> plot_output.txt"
     ],
     "language": "python",
     "metadata": {},
     "outputs": []
    },
    {
     "cell_type": "code",
     "collapsed": false,
     "input": [
      "plotdir = '_plots2'\n",
      "anim = J.make_anim(plotdir, figsize=(6,4))\n",
      "anim"
     ],
     "language": "python",
     "metadata": {},
     "outputs": []
    },
    {
     "cell_type": "code",
     "collapsed": false,
     "input": [],
     "language": "python",
     "metadata": {},
     "outputs": []
    }
   ],
   "metadata": {}
  }
 ]
}